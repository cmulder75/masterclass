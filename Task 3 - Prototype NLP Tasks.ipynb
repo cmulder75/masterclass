{
 "cells": [
  {
   "cell_type": "markdown",
   "metadata": {},
   "source": [
    "# Prototype NLP tasks | Task 3"
   ]
  },
  {
   "cell_type": "code",
   "execution_count": null,
   "metadata": {},
   "outputs": [],
   "source": [
    "#######################################################################\n",
    "## Prototype NLP Tasks\n",
    "## Created by:  Coenraad F. Mulder\n",
    "## Date:        03-12-2021\n",
    "## Purpose:     Prototype NLP tasks to: \n",
    "##              - create a clean corpus\n",
    "##              - extract key topics from cleaned corpus\n",
    "##              - perform sentiment analysis on the cleaned corpus\n",
    "#######################################################################\n",
    "# Libraries\n",
    "#######################################################################\n",
    "import requests                                             # For getting URLS from the Web\n",
    "import pandas as pd                                         # DataFrame functionality\n",
    "import snscrape.modules.twitter as sntwitter                # Python Scraper Library for Twitter feed\n",
    "from datetime import datetime, timedelta                    # Date and time manipulation"
   ]
  }
 ],
 "metadata": {
  "language_info": {
   "name": "python"
  },
  "orig_nbformat": 4
 },
 "nbformat": 4,
 "nbformat_minor": 2
}
