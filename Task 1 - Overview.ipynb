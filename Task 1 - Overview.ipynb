{
 "cells": [
  {
   "cell_type": "markdown",
   "metadata": {},
   "source": [
    "# Overview | Task 1\n",
    "\n",
    "\"We don't have a choice on whether we DO social media, the question is how well we DO it.\" - Eric Qualman. \n",
    "\n",
    "At the best of times, humanity is struggling to cope with the impact of social media on our world and environment. When a global pandemic such as the current Coronavirus (SARS-CoV-2, or COVID-19) is mixed into the equation, social media fuels the surge of numerous rumours, hoaxes and misinformation, thus amplifying the impact and severity of it exponentially (Tasnim et al., 2020).  The latest Coronavirus variant, Omicron (B.1.1.529), was discovered by a team of infectious disease specialists at the University of KwaZulu-Natal in Durban, South Africa, and first reported to the World Health Organization (WHO) on 24 November 2021. The release of the news statement by WHO on 26 November 2021 has caused a major knee-jerk reaction throughout the world (World Health Organization, 2021). Multiple countries have imposed immediate travel bans on international travellers from possible exposure sites, even though the actual severity or impact of Omicron has not been fully realised. \n",
    "\n",
    "There is a clear disparity between the perceived impact or severity of such a variant through social media platforms, and the reality as presented by the WHO and other infectious disease specialist teams around the globe. Tasnim et al identified this same issue, highlighting that fake news is spread more rapidly on social media than news from reliable sources. This overload of information can lead to media fatigue, causing individuals to discontinue healthy behaviours that are essential to personal protection. The social media hype can lead to erratic behaviour, with potential dire consequences for the individuals involved in the process.   \n",
    "\n",
    "This assignment sets out to clarify how the hype around a new strain or variant of Coronavirus is fuelled by social media, more specifically, to identify some of the key issues social media commentators are tweeting around the Omicron variant, and to determine the sentiment behind those tweets (whether it is positive or negative). This is not a fact verification service; no attempt has been made to verify the validity or content of any of the tweets. Rather, this Twitter web crawler scrapes tweets for the specified time period and extracts the tweeted text in its raw format. The tweeted text is cleaned by removing hyperlinks and punctuation marks, removing stop words and lemmatisation of the text to create a cleaned corpus. This corpus is then fed into the first Natural Language Processing (NLP) task, extracting key phrases from the corpus, thus identifying the key topics social commentators are tweeting about. The second NLP task takes each of the corpus entries to determine the sentiment of the tweet, whether positive, neutral or negative. These prototype NLP tasks can be used by any development team as basis to identify key topics in a corpus, and to measure the sentiment of entries within the corpus.\n",
    "\n",
    "As Quelman eluded to, this assignment is a modest contribution towards improving how well we do social media, with the hope that these prototypes may help transform how individuals respond to new coronavirus variants.\n",
    "\n",
    "# References\n",
    "Tasnim, S., Hossain, M. M., & Mazumder, H. (2020). Impact of Rumors and Misinformation on COVID-19 in Social Media. J Prev Med Public Health, 53(3), 171-174. https://doi.org/10.3961/jpmph.20.094 \n",
    "\n",
    "World Health Organization (WHO). (2021, 26 November 2021). Classification of Omicron (B.1.1.529): SARS-CoV-2 Variant of Concern [Statement]. https://www.who.int/news/item/26-11-2021-classification-of-omicron-(b.1.1.529)-sars-cov-2-variant-of-concern\n",
    "\n"
   ]
  }
 ],
 "metadata": {
  "interpreter": {
   "hash": "7b8be56cfe10e907251ce2d76bda2f6a442ace68dc2a60382ab7fca985e07926"
  },
  "kernelspec": {
   "display_name": "Python 3.8.8 64-bit ('base': conda)",
   "language": "python",
   "name": "python3"
  },
  "language_info": {
   "name": "python",
   "version": "3.8.8"
  },
  "orig_nbformat": 4
 },
 "nbformat": 4,
 "nbformat_minor": 2
}
